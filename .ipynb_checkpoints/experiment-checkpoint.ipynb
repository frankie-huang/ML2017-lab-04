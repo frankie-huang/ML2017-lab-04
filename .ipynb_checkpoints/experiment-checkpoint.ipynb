{
 "cells": [
  {
   "cell_type": "code",
   "execution_count": null,
   "metadata": {},
   "outputs": [],
   "source": [
    "import numpy as np\n",
    "import matplotlib.pyplot as plt"
   ]
  },
  {
   "cell_type": "code",
   "execution_count": null,
   "metadata": {
    "collapsed": true
   },
   "outputs": [],
   "source": [
    "# 计算Loss值\n",
    "def loss(R, P, Q, K, beta):\n",
    "    e = 0\n",
    "    for i in range(len(R)):\n",
    "        for j in range(len(R[i])):\n",
    "            if R[i][j] > 0:\n",
    "                e = e + pow(R[i][j] - numpy.dot(P[i,:],Q[:,j]), 2)\n",
    "                for k in range(K):\n",
    "                    e = e + (beta/2) * (pow(P[i][k],2) + pow(Q[k][j],2))\n",
    "    if e < 0.001:\n",
    "        return e\n",
    "    return e\n",
    "\n",
    "# matrix_factorization函数，返回P，Q矩阵\n",
    "def matrix_factorization(R, P, Q, K, steps=5000, alpha=0.0002, beta=0.02):\n",
    "    Q = Q.T\n",
    "    Loss = []\n",
    "    for step in range(steps):\n",
    "        for i in range(len(R)):\n",
    "            for j in range(len(R[i])):\n",
    "                if R[i][j] > 0:\n",
    "                    eij = R[i][j] - numpy.dot(P[i,:],Q[:,j])\n",
    "                    for k in range(K):\n",
    "                        P[i][k] = P[i][k] + alpha * (2 * eij * Q[k][j] - beta * P[i][k])\n",
    "                        Q[k][j] = Q[k][j] + alpha * (2 * eij * P[i][k] - beta * Q[k][j])\n",
    "        eR = numpy.dot(P,Q)\n",
    "        Loss.append(loss(R, P, Q, K, beta))\n",
    "    return P, Q.T, Loss"
   ]
  },
  {
   "cell_type": "code",
   "execution_count": null,
   "metadata": {},
   "outputs": [],
   "source": [
    "# 数据读入内存\n",
    "R_train = np.loadtxt('ml-100k/u1.base') # 80000 x 4\n",
    "R_test = np.loadtxt('ml-100k/u1.test')  # 20000 x 4"
   ]
  },
  {
   "cell_type": "code",
   "execution_count": null,
   "metadata": {},
   "outputs": [],
   "source": [
    "# 数据预处理\n",
    "user_number = 943\n",
    "item_number = 1682\n",
    "K = 3\n",
    "## 舍弃timestamp特征\n",
    "R_train = R_train[:,:3] # 80000 x 3\n",
    "R_test = R_test[:,:3]   # 20000 x 3\n",
    "## 填充原始评分矩阵\n",
    "R = np.zeros([user_number, item_number])\n",
    "\n",
    "for user in range(R_train.shape[0]):\n",
    "    R[int(R_train[user][0]-1)][int(R_train[user][1])-1] = R_train[user][2]\n",
    "\n",
    "P = np.random.random((user_number, K))\n",
    "Q = np.random.random((item_number, K))"
   ]
  },
  {
   "cell_type": "code",
   "execution_count": null,
   "metadata": {},
   "outputs": [],
   "source": [
    "P, Q, Loss = matrix_factorization(R, P, Q, K，10)"
   ]
  },
  {
   "cell_type": "code",
   "execution_count": null,
   "metadata": {},
   "outputs": [],
   "source": [
    "# 预测并计算准确率\n",
    "R_pre = numpy.dot(P, Q.T)\n",
    "acc = 0\n",
    "threshold = 0.5\n",
    "for i in range(R_test.shape[0]):\n",
    "    if R_test[i, 2] - R_pre[int(R_test[i, 0]-1), int(R_test[i, 1]-1)] < threshold:\n",
    "        acc += 1\n",
    "acc = acc / R_test.shape[0]"
   ]
  },
  {
   "cell_type": "code",
   "execution_count": null,
   "metadata": {},
   "outputs": [],
   "source": [
    "# plot the loss history\n",
    "plt.rcParams['figure.figsize'] = (10.0, 8.0) #set default size\n",
    "plt.plot(Loss, label = \"MF\")\n",
    "plt.xlabel('iteration')\n",
    "plt.ylabel('loss')\n",
    "plt.title('Loss history')\n",
    "plt.legend(loc = 'best')\n",
    "plt.grid()\n",
    "plt.show()\n",
    "print(\"准确率为\", acc)"
   ]
  },
  {
   "cell_type": "code",
   "execution_count": null,
   "metadata": {
    "collapsed": true
   },
   "outputs": [],
   "source": []
  }
 ],
 "metadata": {
  "kernelspec": {
   "display_name": "Python 3",
   "language": "python",
   "name": "python3"
  },
  "language_info": {
   "codemirror_mode": {
    "name": "ipython",
    "version": 3
   },
   "file_extension": ".py",
   "mimetype": "text/x-python",
   "name": "python",
   "nbconvert_exporter": "python",
   "pygments_lexer": "ipython3",
   "version": "3.6.1"
  }
 },
 "nbformat": 4,
 "nbformat_minor": 2
}
